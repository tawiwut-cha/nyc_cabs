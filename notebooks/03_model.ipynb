{
 "cells": [
  {
   "cell_type": "markdown",
   "metadata": {},
   "source": [
    "# Model selection\n",
    "- train val split\n",
    "- explore model\n",
    "- select a good one and do tuning\n",
    "- train and save to model directory"
   ]
  },
  {
   "cell_type": "code",
   "execution_count": 1,
   "metadata": {},
   "outputs": [],
   "source": [
    "%load_ext autoreload\n",
    "%autoreload 2"
   ]
  },
  {
   "cell_type": "code",
   "execution_count": 2,
   "metadata": {},
   "outputs": [],
   "source": [
    "import os\n",
    "import sys\n",
    "\n",
    "PROJ_ROOT = os.path.abspath(os.path.join(os.pardir))\n",
    "sys.path.append(os.path.join(PROJ_ROOT, 'src'))"
   ]
  },
  {
   "cell_type": "code",
   "execution_count": 3,
   "metadata": {},
   "outputs": [],
   "source": [
    "%matplotlib inline\n",
    "import matplotlib.pyplot as plt\n",
    "import seaborn as sns\n",
    "import pandas as pd\n",
    "import numpy as np"
   ]
  },
  {
   "cell_type": "markdown",
   "metadata": {},
   "source": [
    "# Read processed data"
   ]
  },
  {
   "cell_type": "code",
   "execution_count": 4,
   "metadata": {},
   "outputs": [],
   "source": [
    "from data.read import read_processed_data\n",
    "df = read_processed_data('../data/processed/train.pkl')"
   ]
  },
  {
   "cell_type": "code",
   "execution_count": 5,
   "metadata": {},
   "outputs": [
    {
     "name": "stdout",
     "output_type": "stream",
     "text": [
      "<class 'pandas.core.frame.DataFrame'>\n",
      "RangeIndex: 1329780 entries, 0 to 1329779\n",
      "Data columns (total 9 columns):\n",
      " #   Column                       Non-Null Count    Dtype  \n",
      "---  ------                       --------------    -----  \n",
      " 0   trip_distance                1329780 non-null  float64\n",
      " 1   pickup_datetime_date         1329780 non-null  float64\n",
      " 2   pickup_datetime_day_of_week  1329780 non-null  float64\n",
      " 3   pickup_datetime_hour         1329780 non-null  float64\n",
      " 4   pickup_latitude              1329780 non-null  float64\n",
      " 5   pickup_longitude             1329780 non-null  float64\n",
      " 6   dropoff_latitude             1329780 non-null  float64\n",
      " 7   dropoff_longitude            1329780 non-null  float64\n",
      " 8   log_trip_duration            1329780 non-null  float64\n",
      "dtypes: float64(9)\n",
      "memory usage: 91.3 MB\n"
     ]
    }
   ],
   "source": [
    "df.info()"
   ]
  },
  {
   "cell_type": "markdown",
   "metadata": {},
   "source": [
    "# Train val split"
   ]
  },
  {
   "cell_type": "code",
   "execution_count": 7,
   "metadata": {},
   "outputs": [],
   "source": [
    "X = df.drop(['log_trip_duration'], axis=1)\n",
    "y = df['log_trip_duration']"
   ]
  },
  {
   "cell_type": "code",
   "execution_count": 35,
   "metadata": {},
   "outputs": [],
   "source": [
    "# without column names\n",
    "# np.array(X).shape\n",
    "# y.ravel()"
   ]
  },
  {
   "cell_type": "code",
   "execution_count": 14,
   "metadata": {},
   "outputs": [],
   "source": [
    "from sklearn.model_selection import train_test_split\n",
    "\n",
    "X_train, X_val, y_train, y_val = train_test_split(X, y, test_size=0.1, random_state=42)"
   ]
  },
  {
   "cell_type": "code",
   "execution_count": 15,
   "metadata": {},
   "outputs": [
    {
     "name": "stdout",
     "output_type": "stream",
     "text": [
      "(1196802, 8) (132978, 8)\n",
      "(1196802,) (132978,)\n"
     ]
    }
   ],
   "source": [
    "print(X_train.shape, X_val.shape)\n",
    "print(y_train.shape, y_val.shape)"
   ]
  },
  {
   "cell_type": "markdown",
   "metadata": {},
   "source": [
    "# Explore models\n",
    "- evaluate by rmse"
   ]
  },
  {
   "cell_type": "code",
   "execution_count": 16,
   "metadata": {},
   "outputs": [],
   "source": [
    "from sklearn.metrics import mean_squared_error"
   ]
  },
  {
   "cell_type": "code",
   "execution_count": 17,
   "metadata": {},
   "outputs": [],
   "source": [
    "def evaluate_regressor_skl(regressor, X_train, y_train, X_val, y_val):\n",
    "    '''\n",
    "    for sklearn models\n",
    "    '''\n",
    "    regressor.fit(X_train, y_train)\n",
    "    # make predictions on training data\n",
    "    y_pred_train = regressor.predict(X_train)\n",
    "    rmse_train = np.sqrt(mean_squared_error(y_train, y_pred_train))\n",
    "\n",
    "    # make predictions on test data\n",
    "    y_pred_val = regressor.predict(X_val)\n",
    "    rmse_val = np.sqrt(mean_squared_error(y_val, y_pred_val))\n",
    "\n",
    "    print(f'Predicting with {regressor}')\n",
    "    print('Training error:')\n",
    "    print(f'Root mean squared error = {rmse_train}')\n",
    "    \n",
    "    print('Validation error:')\n",
    "    print(f'Root mean squared error = {rmse_val}')\n",
    "\n",
    "    return regressor, y_pred_train, y_pred_val"
   ]
  },
  {
   "cell_type": "code",
   "execution_count": 18,
   "metadata": {},
   "outputs": [
    {
     "name": "stdout",
     "output_type": "stream",
     "text": [
      "Predicting with HistGradientBoostingRegressor(random_state=42)\n",
      "Training error:\n",
      "Root mean squared error = 0.38732930810657246\n",
      "Validation error:\n",
      "Root mean squared error = 0.3946265400959257\n"
     ]
    }
   ],
   "source": [
    "# try HistogramGradientBoostingRegressor\n",
    "from sklearn.ensemble import HistGradientBoostingRegressor\n",
    "\n",
    "hgb_results = evaluate_regressor_skl(\n",
    "    HistGradientBoostingRegressor(random_state=42),\n",
    "    X_train, y_train,\n",
    "    X_val, y_val\n",
    "    )"
   ]
  },
  {
   "cell_type": "markdown",
   "metadata": {},
   "source": [
    "# Cross validation"
   ]
  },
  {
   "cell_type": "code",
   "execution_count": 19,
   "metadata": {},
   "outputs": [],
   "source": [
    "from sklearn.model_selection import cross_val_score\n",
    "\n",
    "cv_scores_hgb = np.sqrt(-1*np.array(cross_val_score(HistGradientBoostingRegressor(random_state=42), X, y, scoring='neg_mean_squared_error', cv=5)))"
   ]
  },
  {
   "cell_type": "code",
   "execution_count": 20,
   "metadata": {},
   "outputs": [
    {
     "name": "stdout",
     "output_type": "stream",
     "text": [
      "[0.3913187  0.39114067 0.39033772 0.39144576 0.38939521]\n",
      "Mean = 0.39072761412687507\n"
     ]
    }
   ],
   "source": [
    "print(cv_scores_hgb)\n",
    "print(f'Mean = {np.mean(cv_scores_hgb)}')"
   ]
  },
  {
   "cell_type": "markdown",
   "metadata": {},
   "source": [
    "# Hyperparams tuning"
   ]
  },
  {
   "cell_type": "code",
   "execution_count": 21,
   "metadata": {},
   "outputs": [],
   "source": [
    "from sklearn.model_selection import GridSearchCV\n",
    "\n",
    "param_grid = {\n",
    "    # param_name: [to random search] + [default value]\n",
    "    'max_leaf_nodes': [31, 150, 300]\n",
    "}\n",
    "\n",
    "regressor = GridSearchCV(HistGradientBoostingRegressor(random_state=42), param_grid, scoring='neg_root_mean_squared_error', cv=3, refit=True)\n",
    "search = regressor.fit(X, y)"
   ]
  },
  {
   "cell_type": "code",
   "execution_count": 22,
   "metadata": {},
   "outputs": [
    {
     "data": {
      "text/plain": [
       "{'mean_fit_time': array([19.53243907, 24.09316913, 34.82859087]),\n",
       " 'std_fit_time': array([1.43024878, 0.13117922, 3.04362348]),\n",
       " 'mean_score_time': array([1.86253564, 1.72625391, 2.16300265]),\n",
       " 'std_score_time': array([0.31782028, 0.04289972, 0.36191248]),\n",
       " 'param_max_leaf_nodes': masked_array(data=[31, 150, 300],\n",
       "              mask=[False, False, False],\n",
       "        fill_value='?',\n",
       "             dtype=object),\n",
       " 'params': [{'max_leaf_nodes': 31},\n",
       "  {'max_leaf_nodes': 150},\n",
       "  {'max_leaf_nodes': 300}],\n",
       " 'split0_test_score': array([-0.39124732, -0.37303398, -0.36574581]),\n",
       " 'split1_test_score': array([-0.38992782, -0.37205564, -0.36575616]),\n",
       " 'split2_test_score': array([-0.39015086, -0.37197654, -0.36521196]),\n",
       " 'mean_test_score': array([-0.390442  , -0.37235539, -0.36557131]),\n",
       " 'std_test_score': array([0.00057668, 0.00048092, 0.00025414]),\n",
       " 'rank_test_score': array([3, 2, 1])}"
      ]
     },
     "execution_count": 22,
     "metadata": {},
     "output_type": "execute_result"
    }
   ],
   "source": [
    "# we got better results with more max_leaf_nodes\n",
    "search.cv_results_"
   ]
  },
  {
   "cell_type": "code",
   "execution_count": 23,
   "metadata": {},
   "outputs": [
    {
     "data": {
      "text/plain": [
       "['../model/best_estimator.joblib']"
      ]
     },
     "execution_count": 23,
     "metadata": {},
     "output_type": "execute_result"
    }
   ],
   "source": [
    "# save model to model directory\n",
    "from joblib import dump\n",
    "\n",
    "dump(search.best_estimator_, '../models/best_estimator.joblib')"
   ]
  },
  {
   "cell_type": "code",
   "execution_count": 39,
   "metadata": {},
   "outputs": [
    {
     "data": {
      "text/plain": [
       "array([ 783.83034448,  639.28668273,  400.50694306, ..., 1463.95510792,\n",
       "       1573.39523268, 1145.26212871])"
      ]
     },
     "execution_count": 39,
     "metadata": {},
     "output_type": "execute_result"
    }
   ],
   "source": [
    "# test we can load and use for making predictions\n",
    "from joblib import load\n",
    "from data.read import read_processed_test_data\n",
    "from models.predict import make_predictions\n",
    "\n",
    "loaded_model = load('../models/best_estimator.joblib')\n",
    "\n",
    "test = read_processed_test_data('../data/processed/test.pkl')\n",
    "\n",
    "make_predictions(loaded_model, test)"
   ]
  },
  {
   "cell_type": "code",
   "execution_count": 40,
   "metadata": {},
   "outputs": [
    {
     "data": {
      "text/html": [
       "<div>\n",
       "<style scoped>\n",
       "    .dataframe tbody tr th:only-of-type {\n",
       "        vertical-align: middle;\n",
       "    }\n",
       "\n",
       "    .dataframe tbody tr th {\n",
       "        vertical-align: top;\n",
       "    }\n",
       "\n",
       "    .dataframe thead th {\n",
       "        text-align: right;\n",
       "    }\n",
       "</style>\n",
       "<table border=\"1\" class=\"dataframe\">\n",
       "  <thead>\n",
       "    <tr style=\"text-align: right;\">\n",
       "      <th></th>\n",
       "      <th>trip_duration</th>\n",
       "    </tr>\n",
       "  </thead>\n",
       "  <tbody>\n",
       "    <tr>\n",
       "      <th>0</th>\n",
       "      <td>826.733712</td>\n",
       "    </tr>\n",
       "    <tr>\n",
       "      <th>1</th>\n",
       "      <td>633.535294</td>\n",
       "    </tr>\n",
       "    <tr>\n",
       "      <th>2</th>\n",
       "      <td>430.694029</td>\n",
       "    </tr>\n",
       "    <tr>\n",
       "      <th>3</th>\n",
       "      <td>918.680135</td>\n",
       "    </tr>\n",
       "    <tr>\n",
       "      <th>4</th>\n",
       "      <td>350.398802</td>\n",
       "    </tr>\n",
       "    <tr>\n",
       "      <th>...</th>\n",
       "      <td>...</td>\n",
       "    </tr>\n",
       "    <tr>\n",
       "      <th>625129</th>\n",
       "      <td>292.325805</td>\n",
       "    </tr>\n",
       "    <tr>\n",
       "      <th>625130</th>\n",
       "      <td>1239.288231</td>\n",
       "    </tr>\n",
       "    <tr>\n",
       "      <th>625131</th>\n",
       "      <td>1512.261131</td>\n",
       "    </tr>\n",
       "    <tr>\n",
       "      <th>625132</th>\n",
       "      <td>1585.017629</td>\n",
       "    </tr>\n",
       "    <tr>\n",
       "      <th>625133</th>\n",
       "      <td>1076.789839</td>\n",
       "    </tr>\n",
       "  </tbody>\n",
       "</table>\n",
       "<p>625134 rows × 1 columns</p>\n",
       "</div>"
      ],
      "text/plain": [
       "        trip_duration\n",
       "0          826.733712\n",
       "1          633.535294\n",
       "2          430.694029\n",
       "3          918.680135\n",
       "4          350.398802\n",
       "...               ...\n",
       "625129     292.325805\n",
       "625130    1239.288231\n",
       "625131    1512.261131\n",
       "625132    1585.017629\n",
       "625133    1076.789839\n",
       "\n",
       "[625134 rows x 1 columns]"
      ]
     },
     "execution_count": 40,
     "metadata": {},
     "output_type": "execute_result"
    }
   ],
   "source": [
    "pd.read_pickle('../models/predictions.pkl')"
   ]
  }
 ],
 "metadata": {
  "interpreter": {
   "hash": "49a62a5678055e855a1fb0de3a55a3650990ca961255c1455b9716d84821c84d"
  },
  "kernelspec": {
   "display_name": "Python 3.8.8 64-bit ('ds_projects': conda)",
   "name": "python3"
  },
  "language_info": {
   "codemirror_mode": {
    "name": "ipython",
    "version": 3
   },
   "file_extension": ".py",
   "mimetype": "text/x-python",
   "name": "python",
   "nbconvert_exporter": "python",
   "pygments_lexer": "ipython3",
   "version": "3.8.8"
  },
  "orig_nbformat": 4
 },
 "nbformat": 4,
 "nbformat_minor": 2
}
