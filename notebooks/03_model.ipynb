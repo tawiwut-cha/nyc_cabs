{
 "cells": [
  {
   "cell_type": "markdown",
   "metadata": {},
   "source": [
    "# Model selection\n",
    "- train val split\n",
    "- explore model\n",
    "- select a good one and do tuning\n",
    "- train and save to model directory"
   ]
  },
  {
   "cell_type": "code",
   "execution_count": 1,
   "metadata": {},
   "outputs": [],
   "source": [
    "%load_ext autoreload\n",
    "%autoreload 2"
   ]
  },
  {
   "cell_type": "code",
   "execution_count": 2,
   "metadata": {},
   "outputs": [],
   "source": [
    "import os\n",
    "import sys\n",
    "\n",
    "PROJ_ROOT = os.path.abspath(os.path.join(os.pardir))\n",
    "sys.path.append(os.path.join(PROJ_ROOT, 'src'))"
   ]
  },
  {
   "cell_type": "code",
   "execution_count": 3,
   "metadata": {},
   "outputs": [],
   "source": [
    "%matplotlib inline\n",
    "import matplotlib.pyplot as plt\n",
    "import seaborn as sns\n",
    "import pandas as pd\n",
    "import numpy as np"
   ]
  },
  {
   "cell_type": "markdown",
   "metadata": {},
   "source": [
    "# Read processed data"
   ]
  },
  {
   "cell_type": "code",
   "execution_count": 4,
   "metadata": {},
   "outputs": [],
   "source": [
    "from data.read import read_processed_data\n",
    "df = read_processed_data('../data/processed/train.pkl')"
   ]
  },
  {
   "cell_type": "code",
   "execution_count": 5,
   "metadata": {},
   "outputs": [
    {
     "name": "stdout",
     "output_type": "stream",
     "text": [
      "<class 'pandas.core.frame.DataFrame'>\n",
      "RangeIndex: 1329780 entries, 0 to 1329779\n",
      "Data columns (total 9 columns):\n",
      " #   Column                       Non-Null Count    Dtype  \n",
      "---  ------                       --------------    -----  \n",
      " 0   trip_distance                1329780 non-null  float64\n",
      " 1   pickup_datetime_date         1329780 non-null  float64\n",
      " 2   pickup_datetime_day_of_week  1329780 non-null  float64\n",
      " 3   pickup_datetime_hour         1329780 non-null  float64\n",
      " 4   pickup_latitude              1329780 non-null  float64\n",
      " 5   pickup_longitude             1329780 non-null  float64\n",
      " 6   dropoff_latitude             1329780 non-null  float64\n",
      " 7   dropoff_longitude            1329780 non-null  float64\n",
      " 8   log_trip_duration            1329780 non-null  float64\n",
      "dtypes: float64(9)\n",
      "memory usage: 91.3 MB\n"
     ]
    }
   ],
   "source": [
    "df.info()"
   ]
  },
  {
   "cell_type": "markdown",
   "metadata": {},
   "source": [
    "# Train val split"
   ]
  },
  {
   "cell_type": "code",
   "execution_count": 7,
   "metadata": {},
   "outputs": [],
   "source": [
    "X = df.drop(['log_trip_duration'], axis=1)\n",
    "y = df['log_trip_duration']"
   ]
  },
  {
   "cell_type": "code",
   "execution_count": 35,
   "metadata": {},
   "outputs": [],
   "source": [
    "# without column names\n",
    "# np.array(X).shape\n",
    "# y.ravel()"
   ]
  },
  {
   "cell_type": "code",
   "execution_count": 14,
   "metadata": {},
   "outputs": [],
   "source": [
    "from sklearn.model_selection import train_test_split\n",
    "\n",
    "X_train, X_val, y_train, y_val = train_test_split(X, y, test_size=0.1, random_state=42)"
   ]
  },
  {
   "cell_type": "code",
   "execution_count": 15,
   "metadata": {},
   "outputs": [
    {
     "name": "stdout",
     "output_type": "stream",
     "text": [
      "(1196802, 8) (132978, 8)\n",
      "(1196802,) (132978,)\n"
     ]
    }
   ],
   "source": [
    "print(X_train.shape, X_val.shape)\n",
    "print(y_train.shape, y_val.shape)"
   ]
  },
  {
   "cell_type": "markdown",
   "metadata": {},
   "source": [
    "# Explore models\n",
    "- evaluate by rmse"
   ]
  },
  {
   "cell_type": "code",
   "execution_count": 16,
   "metadata": {},
   "outputs": [],
   "source": [
    "from sklearn.metrics import mean_squared_error"
   ]
  },
  {
   "cell_type": "code",
   "execution_count": 17,
   "metadata": {},
   "outputs": [],
   "source": [
    "def evaluate_regressor_skl(regressor, X_train, y_train, X_val, y_val):\n",
    "    '''\n",
    "    for sklearn models\n",
    "    '''\n",
    "    regressor.fit(X_train, y_train)\n",
    "    # make predictions on training data\n",
    "    y_pred_train = regressor.predict(X_train)\n",
    "    rmse_train = np.sqrt(mean_squared_error(y_train, y_pred_train))\n",
    "\n",
    "    # make predictions on test data\n",
    "    y_pred_val = regressor.predict(X_val)\n",
    "    rmse_val = np.sqrt(mean_squared_error(y_val, y_pred_val))\n",
    "\n",
    "    print(f'Predicting with {regressor}')\n",
    "    print('Training error:')\n",
    "    print(f'Root mean squared error = {rmse_train}')\n",
    "    \n",
    "    print('Validation error:')\n",
    "    print(f'Root mean squared error = {rmse_val}')\n",
    "\n",
    "    return regressor, y_pred_train, y_pred_val"
   ]
  },
  {
   "cell_type": "code",
   "execution_count": 18,
   "metadata": {},
   "outputs": [
    {
     "name": "stdout",
     "output_type": "stream",
     "text": [
      "Predicting with HistGradientBoostingRegressor(random_state=42)\n",
      "Training error:\n",
      "Root mean squared error = 0.38732930810657246\n",
      "Validation error:\n",
      "Root mean squared error = 0.3946265400959257\n"
     ]
    }
   ],
   "source": [
    "# try HistogramGradientBoostingRegressor\n",
    "from sklearn.ensemble import HistGradientBoostingRegressor\n",
    "\n",
    "hgb_results = evaluate_regressor_skl(\n",
    "    HistGradientBoostingRegressor(random_state=42),\n",
    "    X_train, y_train,\n",
    "    X_val, y_val\n",
    "    )"
   ]
  },
  {
   "cell_type": "markdown",
   "metadata": {},
   "source": [
    "# Cross validation"
   ]
  },
  {
   "cell_type": "code",
   "execution_count": 19,
   "metadata": {},
   "outputs": [],
   "source": [
    "from sklearn.model_selection import cross_val_score\n",
    "\n",
    "cv_scores_hgb = np.sqrt(-1*np.array(cross_val_score(HistGradientBoostingRegressor(random_state=42), X, y, scoring='neg_mean_squared_error', cv=5)))"
   ]
  },
  {
   "cell_type": "code",
   "execution_count": 20,
   "metadata": {},
   "outputs": [
    {
     "name": "stdout",
     "output_type": "stream",
     "text": [
      "[0.3913187  0.39114067 0.39033772 0.39144576 0.38939521]\n",
      "Mean = 0.39072761412687507\n"
     ]
    }
   ],
   "source": [
    "print(cv_scores_hgb)\n",
    "print(f'Mean = {np.mean(cv_scores_hgb)}')"
   ]
  },
  {
   "cell_type": "markdown",
   "metadata": {},
   "source": [
    "# Hyperparams tuning"
   ]
  },
  {
   "cell_type": "code",
   "execution_count": 21,
   "metadata": {},
   "outputs": [],
   "source": [
    "from sklearn.model_selection import GridSearchCV\n",
    "\n",
    "param_grid = {\n",
    "    # param_name: [to random search] + [default value]\n",
    "    'max_leaf_nodes': [31, 150, 300]\n",
    "}\n",
    "\n",
    "regressor = GridSearchCV(HistGradientBoostingRegressor(random_state=42), param_grid, scoring='neg_root_mean_squared_error', cv=3, refit=True)\n",
    "search = regressor.fit(X, y)"
   ]
  },
  {
   "cell_type": "code",
   "execution_count": 22,
   "metadata": {},
   "outputs": [
    {
     "data": {
      "text/plain": [
       "{'mean_fit_time': array([19.53243907, 24.09316913, 34.82859087]),\n",
       " 'std_fit_time': array([1.43024878, 0.13117922, 3.04362348]),\n",
       " 'mean_score_time': array([1.86253564, 1.72625391, 2.16300265]),\n",
       " 'std_score_time': array([0.31782028, 0.04289972, 0.36191248]),\n",
       " 'param_max_leaf_nodes': masked_array(data=[31, 150, 300],\n",
       "              mask=[False, False, False],\n",
       "        fill_value='?',\n",
       "             dtype=object),\n",
       " 'params': [{'max_leaf_nodes': 31},\n",
       "  {'max_leaf_nodes': 150},\n",
       "  {'max_leaf_nodes': 300}],\n",
       " 'split0_test_score': array([-0.39124732, -0.37303398, -0.36574581]),\n",
       " 'split1_test_score': array([-0.38992782, -0.37205564, -0.36575616]),\n",
       " 'split2_test_score': array([-0.39015086, -0.37197654, -0.36521196]),\n",
       " 'mean_test_score': array([-0.390442  , -0.37235539, -0.36557131]),\n",
       " 'std_test_score': array([0.00057668, 0.00048092, 0.00025414]),\n",
       " 'rank_test_score': array([3, 2, 1])}"
      ]
     },
     "execution_count": 22,
     "metadata": {},
     "output_type": "execute_result"
    }
   ],
   "source": [
    "# we got better results with more max_leaf_nodes\n",
    "search.cv_results_"
   ]
  },
  {
   "cell_type": "code",
   "execution_count": 23,
   "metadata": {},
   "outputs": [
    {
     "data": {
      "text/plain": [
       "['../model/best_estimator.joblib']"
      ]
     },
     "execution_count": 23,
     "metadata": {},
     "output_type": "execute_result"
    }
   ],
   "source": [
    "# save model to model directory\n",
    "from joblib import dump\n",
    "\n",
    "dump(search.best_estimator_, '../models/best_estimator.joblib')"
   ]
  },
  {
   "cell_type": "code",
   "execution_count": 10,
   "metadata": {},
   "outputs": [
    {
     "data": {
      "text/html": [
       "<div>\n",
       "<style scoped>\n",
       "    .dataframe tbody tr th:only-of-type {\n",
       "        vertical-align: middle;\n",
       "    }\n",
       "\n",
       "    .dataframe tbody tr th {\n",
       "        vertical-align: top;\n",
       "    }\n",
       "\n",
       "    .dataframe thead th {\n",
       "        text-align: right;\n",
       "    }\n",
       "</style>\n",
       "<table border=\"1\" class=\"dataframe\">\n",
       "  <thead>\n",
       "    <tr style=\"text-align: right;\">\n",
       "      <th></th>\n",
       "      <th>trip_distance</th>\n",
       "      <th>pickup_datetime_date</th>\n",
       "      <th>pickup_datetime_day_of_week</th>\n",
       "      <th>pickup_datetime_hour</th>\n",
       "      <th>pickup_latitude</th>\n",
       "      <th>pickup_longitude</th>\n",
       "      <th>dropoff_latitude</th>\n",
       "      <th>dropoff_longitude</th>\n",
       "    </tr>\n",
       "  </thead>\n",
       "  <tbody>\n",
       "    <tr>\n",
       "      <th>0</th>\n",
       "      <td>-0.007877</td>\n",
       "      <td>1.667006</td>\n",
       "      <td>-0.025000</td>\n",
       "      <td>1.467616</td>\n",
       "      <td>-0.943026</td>\n",
       "      <td>-0.405850</td>\n",
       "      <td>0.129094</td>\n",
       "      <td>-0.572888</td>\n",
       "    </tr>\n",
       "    <tr>\n",
       "      <th>1</th>\n",
       "      <td>-0.002395</td>\n",
       "      <td>1.667006</td>\n",
       "      <td>-0.025000</td>\n",
       "      <td>1.467616</td>\n",
       "      <td>-3.244683</td>\n",
       "      <td>0.575647</td>\n",
       "      <td>-3.647017</td>\n",
       "      <td>0.762413</td>\n",
       "    </tr>\n",
       "    <tr>\n",
       "      <th>2</th>\n",
       "      <td>-0.624152</td>\n",
       "      <td>1.667006</td>\n",
       "      <td>-0.025000</td>\n",
       "      <td>1.467616</td>\n",
       "      <td>-0.697354</td>\n",
       "      <td>-0.787682</td>\n",
       "      <td>-0.883454</td>\n",
       "      <td>-0.396414</td>\n",
       "    </tr>\n",
       "    <tr>\n",
       "      <th>3</th>\n",
       "      <td>1.071540</td>\n",
       "      <td>1.667006</td>\n",
       "      <td>-0.025000</td>\n",
       "      <td>1.467616</td>\n",
       "      <td>0.820549</td>\n",
       "      <td>0.909281</td>\n",
       "      <td>-0.848180</td>\n",
       "      <td>-0.408156</td>\n",
       "    </tr>\n",
       "    <tr>\n",
       "      <th>4</th>\n",
       "      <td>-0.771907</td>\n",
       "      <td>1.667006</td>\n",
       "      <td>-0.025000</td>\n",
       "      <td>1.467616</td>\n",
       "      <td>0.359407</td>\n",
       "      <td>0.329021</td>\n",
       "      <td>0.099652</td>\n",
       "      <td>0.687596</td>\n",
       "    </tr>\n",
       "    <tr>\n",
       "      <th>...</th>\n",
       "      <td>...</td>\n",
       "      <td>...</td>\n",
       "      <td>...</td>\n",
       "      <td>...</td>\n",
       "      <td>...</td>\n",
       "      <td>...</td>\n",
       "      <td>...</td>\n",
       "      <td>...</td>\n",
       "    </tr>\n",
       "    <tr>\n",
       "      <th>625129</th>\n",
       "      <td>-0.769085</td>\n",
       "      <td>-1.665979</td>\n",
       "      <td>0.487731</td>\n",
       "      <td>-2.139157</td>\n",
       "      <td>-1.249272</td>\n",
       "      <td>-1.034934</td>\n",
       "      <td>-0.729843</td>\n",
       "      <td>-1.060038</td>\n",
       "    </tr>\n",
       "    <tr>\n",
       "      <th>625130</th>\n",
       "      <td>1.468301</td>\n",
       "      <td>-1.665979</td>\n",
       "      <td>0.487731</td>\n",
       "      <td>-2.139157</td>\n",
       "      <td>-0.423166</td>\n",
       "      <td>-1.153865</td>\n",
       "      <td>1.090581</td>\n",
       "      <td>1.043899</td>\n",
       "    </tr>\n",
       "    <tr>\n",
       "      <th>625131</th>\n",
       "      <td>2.305839</td>\n",
       "      <td>-1.665979</td>\n",
       "      <td>0.487731</td>\n",
       "      <td>-2.139157</td>\n",
       "      <td>0.288203</td>\n",
       "      <td>0.244830</td>\n",
       "      <td>-0.169735</td>\n",
       "      <td>4.421405</td>\n",
       "    </tr>\n",
       "    <tr>\n",
       "      <th>625132</th>\n",
       "      <td>7.537640</td>\n",
       "      <td>-1.665979</td>\n",
       "      <td>0.487731</td>\n",
       "      <td>-2.139157</td>\n",
       "      <td>-0.875196</td>\n",
       "      <td>0.071128</td>\n",
       "      <td>5.166660</td>\n",
       "      <td>5.403757</td>\n",
       "    </tr>\n",
       "    <tr>\n",
       "      <th>625133</th>\n",
       "      <td>1.355200</td>\n",
       "      <td>-1.665979</td>\n",
       "      <td>0.487731</td>\n",
       "      <td>-2.139157</td>\n",
       "      <td>-1.613056</td>\n",
       "      <td>-0.148269</td>\n",
       "      <td>0.602584</td>\n",
       "      <td>0.343705</td>\n",
       "    </tr>\n",
       "  </tbody>\n",
       "</table>\n",
       "<p>625134 rows × 8 columns</p>\n",
       "</div>"
      ],
      "text/plain": [
       "        trip_distance  pickup_datetime_date  pickup_datetime_day_of_week  \\\n",
       "0           -0.007877              1.667006                    -0.025000   \n",
       "1           -0.002395              1.667006                    -0.025000   \n",
       "2           -0.624152              1.667006                    -0.025000   \n",
       "3            1.071540              1.667006                    -0.025000   \n",
       "4           -0.771907              1.667006                    -0.025000   \n",
       "...               ...                   ...                          ...   \n",
       "625129      -0.769085             -1.665979                     0.487731   \n",
       "625130       1.468301             -1.665979                     0.487731   \n",
       "625131       2.305839             -1.665979                     0.487731   \n",
       "625132       7.537640             -1.665979                     0.487731   \n",
       "625133       1.355200             -1.665979                     0.487731   \n",
       "\n",
       "        pickup_datetime_hour  pickup_latitude  pickup_longitude  \\\n",
       "0                   1.467616        -0.943026         -0.405850   \n",
       "1                   1.467616        -3.244683          0.575647   \n",
       "2                   1.467616        -0.697354         -0.787682   \n",
       "3                   1.467616         0.820549          0.909281   \n",
       "4                   1.467616         0.359407          0.329021   \n",
       "...                      ...              ...               ...   \n",
       "625129             -2.139157        -1.249272         -1.034934   \n",
       "625130             -2.139157        -0.423166         -1.153865   \n",
       "625131             -2.139157         0.288203          0.244830   \n",
       "625132             -2.139157        -0.875196          0.071128   \n",
       "625133             -2.139157        -1.613056         -0.148269   \n",
       "\n",
       "        dropoff_latitude  dropoff_longitude  \n",
       "0               0.129094          -0.572888  \n",
       "1              -3.647017           0.762413  \n",
       "2              -0.883454          -0.396414  \n",
       "3              -0.848180          -0.408156  \n",
       "4               0.099652           0.687596  \n",
       "...                  ...                ...  \n",
       "625129         -0.729843          -1.060038  \n",
       "625130          1.090581           1.043899  \n",
       "625131         -0.169735           4.421405  \n",
       "625132          5.166660           5.403757  \n",
       "625133          0.602584           0.343705  \n",
       "\n",
       "[625134 rows x 8 columns]"
      ]
     },
     "execution_count": 10,
     "metadata": {},
     "output_type": "execute_result"
    }
   ],
   "source": [
    "# test we can load and use for making predictions\n",
    "from joblib import load\n",
    "from data.read import read_processed_test_data\n",
    "from models.predict import make_predictions\n",
    "\n",
    "loaded_model = load('../models/best_estimator.joblib')\n",
    "\n",
    "test = read_processed_test_data('../data/processed/test.pkl')"
   ]
  },
  {
   "cell_type": "code",
   "execution_count": 9,
   "metadata": {},
   "outputs": [
    {
     "data": {
      "text/plain": [
       "0          790.801020\n",
       "1          609.325818\n",
       "2          405.487914\n",
       "3          972.701657\n",
       "4          342.239061\n",
       "             ...     \n",
       "625129     290.722729\n",
       "625130    1229.820692\n",
       "625131    1489.770467\n",
       "625132    1506.953816\n",
       "625133    1150.844801\n",
       "Name: trip_duration, Length: 625134, dtype: float64"
      ]
     },
     "execution_count": 9,
     "metadata": {},
     "output_type": "execute_result"
    }
   ],
   "source": [
    "# make_predictions(loaded_model, test)\n",
    "y_test = pd.read_pickle('../models/predictions.pkl')['trip_duration']\n",
    "\n",
    "y_test"
   ]
  },
  {
   "cell_type": "code",
   "execution_count": 11,
   "metadata": {},
   "outputs": [
    {
     "data": {
      "text/html": [
       "<div>\n",
       "<style scoped>\n",
       "    .dataframe tbody tr th:only-of-type {\n",
       "        vertical-align: middle;\n",
       "    }\n",
       "\n",
       "    .dataframe tbody tr th {\n",
       "        vertical-align: top;\n",
       "    }\n",
       "\n",
       "    .dataframe thead th {\n",
       "        text-align: right;\n",
       "    }\n",
       "</style>\n",
       "<table border=\"1\" class=\"dataframe\">\n",
       "  <thead>\n",
       "    <tr style=\"text-align: right;\">\n",
       "      <th></th>\n",
       "      <th>id</th>\n",
       "      <th>trip_duration</th>\n",
       "    </tr>\n",
       "  </thead>\n",
       "  <tbody>\n",
       "    <tr>\n",
       "      <th>0</th>\n",
       "      <td>id3004672</td>\n",
       "      <td>790.801020</td>\n",
       "    </tr>\n",
       "    <tr>\n",
       "      <th>1</th>\n",
       "      <td>id3505355</td>\n",
       "      <td>609.325818</td>\n",
       "    </tr>\n",
       "    <tr>\n",
       "      <th>2</th>\n",
       "      <td>id1217141</td>\n",
       "      <td>405.487914</td>\n",
       "    </tr>\n",
       "    <tr>\n",
       "      <th>3</th>\n",
       "      <td>id2150126</td>\n",
       "      <td>972.701657</td>\n",
       "    </tr>\n",
       "    <tr>\n",
       "      <th>4</th>\n",
       "      <td>id1598245</td>\n",
       "      <td>342.239061</td>\n",
       "    </tr>\n",
       "    <tr>\n",
       "      <th>...</th>\n",
       "      <td>...</td>\n",
       "      <td>...</td>\n",
       "    </tr>\n",
       "    <tr>\n",
       "      <th>625129</th>\n",
       "      <td>id3008929</td>\n",
       "      <td>290.722729</td>\n",
       "    </tr>\n",
       "    <tr>\n",
       "      <th>625130</th>\n",
       "      <td>id3700764</td>\n",
       "      <td>1229.820692</td>\n",
       "    </tr>\n",
       "    <tr>\n",
       "      <th>625131</th>\n",
       "      <td>id2568735</td>\n",
       "      <td>1489.770467</td>\n",
       "    </tr>\n",
       "    <tr>\n",
       "      <th>625132</th>\n",
       "      <td>id1384355</td>\n",
       "      <td>1506.953816</td>\n",
       "    </tr>\n",
       "    <tr>\n",
       "      <th>625133</th>\n",
       "      <td>id0621643</td>\n",
       "      <td>1150.844801</td>\n",
       "    </tr>\n",
       "  </tbody>\n",
       "</table>\n",
       "<p>625134 rows × 2 columns</p>\n",
       "</div>"
      ],
      "text/plain": [
       "               id  trip_duration\n",
       "0       id3004672     790.801020\n",
       "1       id3505355     609.325818\n",
       "2       id1217141     405.487914\n",
       "3       id2150126     972.701657\n",
       "4       id1598245     342.239061\n",
       "...           ...            ...\n",
       "625129  id3008929     290.722729\n",
       "625130  id3700764    1229.820692\n",
       "625131  id2568735    1489.770467\n",
       "625132  id1384355    1506.953816\n",
       "625133  id0621643    1150.844801\n",
       "\n",
       "[625134 rows x 2 columns]"
      ]
     },
     "execution_count": 11,
     "metadata": {},
     "output_type": "execute_result"
    }
   ],
   "source": [
    "from data.read import read_test_data\n",
    "\n",
    "submission = pd.DataFrame()\n",
    "submission['id'] = read_test_data('../data/raw/test.csv')['id']\n",
    "submission['trip_duration'] = pd.Series(y_test)\n",
    "\n",
    "submission"
   ]
  },
  {
   "cell_type": "code",
   "execution_count": 12,
   "metadata": {},
   "outputs": [],
   "source": [
    "submission.to_csv('../models/submission.csv', index=False)"
   ]
  }
 ],
 "metadata": {
  "interpreter": {
   "hash": "49a62a5678055e855a1fb0de3a55a3650990ca961255c1455b9716d84821c84d"
  },
  "kernelspec": {
   "display_name": "Python 3.8.8 64-bit ('ds_projects': conda)",
   "name": "python3"
  },
  "language_info": {
   "codemirror_mode": {
    "name": "ipython",
    "version": 3
   },
   "file_extension": ".py",
   "mimetype": "text/x-python",
   "name": "python",
   "nbconvert_exporter": "python",
   "pygments_lexer": "ipython3",
   "version": "3.8.8"
  },
  "orig_nbformat": 4
 },
 "nbformat": 4,
 "nbformat_minor": 2
}
